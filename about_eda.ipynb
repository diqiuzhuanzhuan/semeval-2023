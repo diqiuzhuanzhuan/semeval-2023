{
 "cells": [
  {
   "cell_type": "code",
   "execution_count": null,
   "metadata": {},
   "outputs": [],
   "source": [
    "from task2.data_man.meta_data import ConllItem\n",
    "from typing import AnyStr, Dict\n",
    "from task2.data_man.meta_data import _assign_ner_tags, extract_spans, get_wiki_knowledge, join_tokens, get_wiki_title_knowledge, get_wiki_title_google_type, get_wiki_entities\n",
    "from task2.data_man.meta_data import read_conll_item_from_file\n",
    "from task2.configuration.config import logging\n",
    "from task2.configuration import config"
   ]
  },
  {
   "cell_type": "code",
   "execution_count": null,
   "metadata": {},
   "outputs": [],
   "source": [
    "def analyze_coverage(conll_file: AnyStr, entity_vocab: Dict, type: AnyStr='ORG'):\n",
    "    conll_items = read_conll_item_from_file(conll_file)\n",
    "    hit_count = 0\n",
    "    total_count = 0 + 1e-6\n",
    "    for item in conll_items:\n",
    "        gold_spans = extract_spans(item.labels)\n",
    "        gold_entities = []\n",
    "        gold_labels = []\n",
    "        for k in gold_spans:\n",
    "            if gold_spans[k] == 'O':\n",
    "                continue\n",
    "            gold_entities.append(join_tokens(item.tokens[k[0]:k[1]+1])[0])\n",
    "            gold_labels.append(item.labels[k[0]][2:])\n",
    "        #logging.info('{}'.format(join_tokens(tokens)[0]))    \n",
    "        #logging.info('gold entities: {}'.format(gold_entities))\n",
    "        #logging.info('gold labels: {}'.format(gold_labels))\n",
    "        for i, entity in enumerate(gold_entities):\n",
    "            if entity in entity_vocab:\n",
    "                if gold_labels[i] == type:\n",
    "                    hit_count += 1\n",
    "                    total_count += 1\n",
    "            else:\n",
    "                if gold_labels[i] == type:\n",
    "                    logging.info('{}'.format(join_tokens(item.tokens)[0]))    \n",
    "                    logging.info('{}: {} is not in'.format(entity, gold_labels[i]))\n",
    "                    total_count += 1\n",
    "    return '{}%'.format(round(hit_count / total_count, 4) * 100)"
   ]
  },
  {
   "cell_type": "code",
   "execution_count": null,
   "metadata": {},
   "outputs": [],
   "source": [
    "person_entities_vocab = get_wiki_entities(config.wiki_entity_data['person'])\n",
    "coverage = analyze_coverage(config.validate_file['Chinese'], person_entities_vocab, type='OtherPER')\n",
    "logging.info('coverage is {}'.format(coverage))"
   ]
  },
  {
   "cell_type": "code",
   "execution_count": null,
   "metadata": {},
   "outputs": [],
   "source": []
  },
  {
   "cell_type": "code",
   "execution_count": null,
   "metadata": {},
   "outputs": [],
   "source": []
  }
 ],
 "metadata": {
  "kernelspec": {
   "display_name": "Python semeval2023",
   "language": "python",
   "name": "semeval2023"
  },
  "language_info": {
   "codemirror_mode": {
    "name": "ipython",
    "version": 3
   },
   "file_extension": ".py",
   "mimetype": "text/x-python",
   "name": "python",
   "nbconvert_exporter": "python",
   "pygments_lexer": "ipython3",
   "version": "3.9.15"
  },
  "orig_nbformat": 4,
  "vscode": {
   "interpreter": {
    "hash": "0aabd0f4680e6d910ea2edc0dd61e8c46bc5e7a1cbed81d898c12970ea0b6e4b"
   }
  }
 },
 "nbformat": 4,
 "nbformat_minor": 2
}
